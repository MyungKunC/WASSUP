{
  "nbformat": 4,
  "nbformat_minor": 0,
  "metadata": {
    "colab": {
      "provenance": []
    },
    "kernelspec": {
      "name": "python3",
      "display_name": "Python 3"
    },
    "language_info": {
      "name": "python"
    }
  },
  "cells": [
    {
      "cell_type": "code",
      "execution_count": null,
      "metadata": {
        "id": "EYltvhgzE6Q-"
      },
      "outputs": [],
      "source": [
        "#216 215에서 정의한 함수를 호출하라. 파라미터는 \"안녕하세요\"로 입력하라.\n",
        "#215 코드\n",
        "def print_with_smile (string) :\n",
        "    print (string + \":D\")"
      ]
    },
    {
      "cell_type": "code",
      "source": [
        "def print_with_smile (string) :\n",
        "    print (string + \":D\")\n",
        "print_with_smile(\"안녕하세요\") #파라미터만 넣어서 함수를 호출하기만 하면 됨"
      ],
      "metadata": {
        "colab": {
          "base_uri": "https://localhost:8080/"
        },
        "id": "PyZIn4seJPIG",
        "outputId": "399806f6-da37-46ba-a021-b3ceb9ad5464"
      },
      "execution_count": 2,
      "outputs": [
        {
          "output_type": "stream",
          "name": "stdout",
          "text": [
            "안녕하세요:D\n"
          ]
        }
      ]
    },
    {
      "cell_type": "code",
      "source": [
        "#220 세 개의 숫자를 입력받아 가장 큰수를 출력하는 print_max 함수를 정의하라. 단 if 문을 사용해서 수를 비교하라."
      ],
      "metadata": {
        "id": "BgJHBjABJsku"
      },
      "execution_count": null,
      "outputs": []
    },
    {
      "cell_type": "code",
      "source": [
        "def print_max(a, b, c):\n",
        "    if a > b and a > c:\n",
        "        print(a)\n",
        "    elif b > a and b > c:\n",
        "        print(b)\n",
        "    else:\n",
        "        print(c)\n",
        "\n",
        "print_max(5, 10, 3)"
      ],
      "metadata": {
        "colab": {
          "base_uri": "https://localhost:8080/"
        },
        "id": "0SDGNfgnJx0K",
        "outputId": "65ee30ca-5a8e-4c4d-e501-d3ca212bf29a"
      },
      "execution_count": 7,
      "outputs": [
        {
          "output_type": "stream",
          "name": "stdout",
          "text": [
            "10\n"
          ]
        }
      ]
    },
    {
      "cell_type": "code",
      "source": [
        "#224 하나의 딕셔너리를 입력받아 딕셔너리의 key 값을 화면에 출력하는 print_keys 함수를 정의하라."
      ],
      "metadata": {
        "id": "_OAXIyTOLEUc"
      },
      "execution_count": null,
      "outputs": []
    },
    {
      "cell_type": "code",
      "source": [
        "def print_keys(dic):\n",
        "    for keys in dic.keys():\n",
        "        print(keys)\n",
        "\n",
        "print_keys ({\"이름\":\"김말똥\", \"나이\":30, \"성별\":0})"
      ],
      "metadata": {
        "colab": {
          "base_uri": "https://localhost:8080/"
        },
        "id": "eMQ_dcKULWmi",
        "outputId": "69aa1387-fa48-499c-cbeb-dd32024e5811"
      },
      "execution_count": 9,
      "outputs": [
        {
          "output_type": "stream",
          "name": "stdout",
          "text": [
            "이름\n",
            "나이\n",
            "성별\n"
          ]
        }
      ]
    },
    {
      "cell_type": "code",
      "source": [
        "def print_keys(dictionary): #함수 정의. 딕셔너리 넣을거니까 dictionary라고 했고\n",
        "    for keys in dictionary.keys(): #딕셔너리의 모든 키를 가져와야 하니까, dictionary.keys\n",
        "        print(keys)\n",
        "\n",
        "print_keys ({\"이름\":\"김말똥\", \"나이\":30, \"성별\":0})"
      ],
      "metadata": {
        "colab": {
          "base_uri": "https://localhost:8080/"
        },
        "id": "BPx0vFaeP7s0",
        "outputId": "bdb9180a-339a-4ea2-ef38-b6529ddf8768"
      },
      "execution_count": 17,
      "outputs": [
        {
          "output_type": "stream",
          "name": "stdout",
          "text": [
            "이름\n",
            "나이\n",
            "성별\n"
          ]
        }
      ]
    },
    {
      "cell_type": "code",
      "source": [
        "#228 연봉을 입력받아 월급을 계산하는 calc_monthly_salary(annual_salary) 함수를 정의하라. 회사는 연봉을 12개월로 나누어 분할 지급하며, 이 때 1원 미만은 버림한다."
      ],
      "metadata": {
        "id": "vwz2pvCPMTvG"
      },
      "execution_count": null,
      "outputs": []
    },
    {
      "cell_type": "code",
      "source": [
        "def calc_monthly_salary(annual_salary) : #함수 정의\n",
        "  monthly_salary = int(annual_salary / 12) #월급 정의했는데, 정수니까 int 넣어서 연봉을 12로 나눈다고 했고\n",
        "  return monthly_salary #\n",
        "\n",
        "calc_monthly_salary(12000000)"
      ],
      "metadata": {
        "colab": {
          "base_uri": "https://localhost:8080/"
        },
        "id": "yQfnDy-rMXhM",
        "outputId": "c060fdcd-8065-4719-9565-0a4be375c1d8"
      },
      "execution_count": 12,
      "outputs": [
        {
          "output_type": "execute_result",
          "data": {
            "text/plain": [
              "1000000"
            ]
          },
          "metadata": {},
          "execution_count": 12
        }
      ]
    }
  ]
}